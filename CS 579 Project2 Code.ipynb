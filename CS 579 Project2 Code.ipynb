{
 "cells": [
  {
   "cell_type": "code",
   "execution_count": 4,
   "metadata": {
    "scrolled": true
   },
   "outputs": [],
   "source": [
    "#Importing the libraries\n",
    "import sqlite3\n",
    "import pandas as pd\n",
    "#from surprise import Reader\n",
    "import numpy as np\n",
    "from sklearn.metrics.pairwise import cosine_similarity\n",
    "from scipy import sparse\n",
    "from scipy.sparse import csr_matrix\n",
    "from implicit.bpr import BayesianPersonalizedRanking\n",
    "from implicit.evaluation import train_test_split, precision_at_k\n",
    "import time"
   ]
  },
  {
   "cell_type": "code",
   "execution_count": 5,
   "metadata": {},
   "outputs": [
    {
     "name": "stdout",
     "output_type": "stream",
     "text": [
      "[('review',), ('sqlite_stat1',), ('sqlite_stat2',), ('reviewer',), ('hotel',)]\n"
     ]
    }
   ],
   "source": [
    "#Fetching the data and establishing connection\n",
    "sql_connection = sqlite3.connect('yelpHotelData.db')\n",
    "cursorObj = sql_connection.cursor()\n",
    "cursorObj.execute(\"SELECT name FROM sqlite_master WHERE type = 'table';\")\n",
    "print(cursorObj.fetchall())"
   ]
  },
  {
   "cell_type": "code",
   "execution_count": 6,
   "metadata": {},
   "outputs": [
    {
     "name": "stdout",
     "output_type": "stream",
     "text": [
      "        date                reviewID              reviewerID  \\\n",
      "0   6/8/2011            MyNjnxzZVTPq  IFTr6_6NI4CgCVavIL9k5g   \n",
      "1  8/30/2011  BdD7fsPqHQL73hwENEDT-Q  c_-hF15XgNhlyy_TqzmdaA   \n",
      "2  6/26/2009                BfhqiyfC  CiwZ6S5ZizAFL5gypf8tLA   \n",
      "3  9/16/2010                      Ol  nf3q2h-kSQoZK2jBY92FOg   \n",
      "4   2/5/2010  i4HIAcNTjabdpG1K4F5Q2g  Sb3DJGdZ4Rq__CqxPbae-g   \n",
      "\n",
      "                                       reviewContent  rating  usefulCount  \\\n",
      "0  Let me begin by saying that there are two kind...       5           18   \n",
      "1  The only place inside the Loop that you can st...       3            0   \n",
      "2  I have walked by the Tokyo Hotel countless tim...       5           12   \n",
      "3  If you are considering staying here, watch thi...       1            8   \n",
      "4  This place is disgusting, absolutely horrible,...       3           11   \n",
      "\n",
      "   coolCount  funnyCount flagged                 hotelID  \n",
      "0         11          28       N  tQfLGoolUMu2J0igcWcoZg  \n",
      "1          3           4       N  tQfLGoolUMu2J0igcWcoZg  \n",
      "2         14          23       N  tQfLGoolUMu2J0igcWcoZg  \n",
      "3          2           6       N  tQfLGoolUMu2J0igcWcoZg  \n",
      "4          4           9       N  tQfLGoolUMu2J0igcWcoZg  \n"
     ]
    }
   ],
   "source": [
    "review_df = pd.read_sql_query(\"Select * from review\",sql_connection)\n",
    "print(review_df.head())"
   ]
  },
  {
   "cell_type": "code",
   "execution_count": 7,
   "metadata": {},
   "outputs": [
    {
     "name": "stdout",
     "output_type": "stream",
     "text": [
      "        tbl                          idx      stat\n",
      "0  reviewer  sqlite_autoindex_reviewer_1    5126 1\n",
      "1    review    sqlite_autoindex_review_1  426430 1\n"
     ]
    }
   ],
   "source": [
    "sqlite_stat1_df = pd.read_sql_query(\"Select * from sqlite_stat1\",sql_connection)\n",
    "print(sqlite_stat1_df.head())"
   ]
  },
  {
   "cell_type": "code",
   "execution_count": 8,
   "metadata": {},
   "outputs": [
    {
     "name": "stdout",
     "output_type": "stream",
     "text": [
      "     tbl                       idx sampleno                  sample\n",
      "0  hotel  sqlite_autoindex_hotel_1        0  28eUMim7qhJD_Ly5dSRpgQ\n",
      "1  hotel  sqlite_autoindex_hotel_1        1  8W76AO7Bbn_IodoZrCoLag\n",
      "2  hotel  sqlite_autoindex_hotel_1        2  ExkYx-EPG20eap-BuLeuBQ\n",
      "3  hotel  sqlite_autoindex_hotel_1        3  LIEqsMIHMoxeVg-vT-LyHQ\n",
      "4  hotel  sqlite_autoindex_hotel_1        4  RjF1clwgexRkXYMtnwvl-g\n"
     ]
    }
   ],
   "source": [
    "sqlite_stat2_df = pd.read_sql_query(\"Select * from sqlite_stat2\",sql_connection)\n",
    "print(sqlite_stat2_df.head())"
   ]
  },
  {
   "cell_type": "code",
   "execution_count": 9,
   "metadata": {},
   "outputs": [
    {
     "name": "stdout",
     "output_type": "stream",
     "text": [
      "               reviewerID                         name               location  \\\n",
      "0  yevHGEUQQmnVlBXIrJ885A                     Kevin T.         Oconomowoc, WI   \n",
      "1  yoB_PYQHjnPjh78ATA0Jgw                  Veronica B.         Saint Paul, MN   \n",
      "2  XrFCag4AMW5qta9QXokWPA        Paul The Commander M.        Saint Louis, MO   \n",
      "3  y5ptsWmvGEAftOQaiFhBcg          Stella BraveTart J.  Lexington-Fayette, KY   \n",
      "4  uUVZJm9yxNl5FBsXbt4WBg  Ginger 'where's my meds' v.      San Francisco, CA   \n",
      "\n",
      "     yelpJoinDate  friendCount  reviewCount  firstCount  usefulCount  \\\n",
      "0        May 2011            4           86           3          129   \n",
      "1    January 2010            5           49           5           63   \n",
      "2     August 2008           15          135          29          235   \n",
      "3  September 2009           49          104          36          282   \n",
      "4     August 2008           22           34           2           81   \n",
      "\n",
      "   coolCount  funnyCount  complimentCount  tipCount  fanCount  \n",
      "0         47          31               12         0         1  \n",
      "1         34          21               10         2         0  \n",
      "2         85         102               72         0         3  \n",
      "3         83          92               43         0        21  \n",
      "4         32          52                5         0         1  \n"
     ]
    }
   ],
   "source": [
    "reviewer_df = pd.read_sql_query(\"Select * from reviewer\",sql_connection)\n",
    "print(reviewer_df.head())"
   ]
  },
  {
   "cell_type": "code",
   "execution_count": 10,
   "metadata": {},
   "outputs": [
    {
     "name": "stdout",
     "output_type": "stream",
     "text": [
      "                  hotelID                                           name  \\\n",
      "0  pSLh_XyV_3QS1hNsBOGHiQ                                Old Chicago Inn   \n",
      "1  tQfLGoolUMu2J0igcWcoZg                                    Tokyo Hotel   \n",
      "2  33Xc1Bk_gkSY5xb2doQ7Ng  The Tremont Chicago Hotel at Magnificent Mile   \n",
      "3  2nnXespKBBNtDQTtrumNFg                            Inn At Lincoln Park   \n",
      "4  SNuJYJewLhunxlhEezo15w                                 Carleton Hotel   \n",
      "\n",
      "                                            location  reviewCount  rating  \\\n",
      "0           Old Chicago Inn - Lakeview - Chicago, IL            1     3.0   \n",
      "1        Tokyo Hotel - Near North Side - Chicago, IL            6     3.0   \n",
      "2  The Tremont Chicago Hotel at Magnificent Mile ...           44     3.0   \n",
      "3   Inn At Lincoln Park - Lincoln Park - Chicago, IL           20     2.0   \n",
      "4                      Carleton Hotel - Oak Park, IL           31     4.0   \n",
      "\n",
      "                                          categories  \\\n",
      "0  Event Planning & Services, Hotels, Hotels & Tr...   \n",
      "1  Event Planning & Services, Hotels, Hotels & Tr...   \n",
      "2  Event Planning & Services, Hotels, Hotels & Tr...   \n",
      "3  Event Planning & Services, Hotels, Hotels & Tr...   \n",
      "4  Event Planning & Services, Hotels, Hotels & Tr...   \n",
      "\n",
      "                                             address AcceptsCreditCards  \\\n",
      "0  3222 N Sheffield Ave (between Belmont Ave & Sc...                Yes   \n",
      "1  19 E Ohio St Chicago, IL 60611 Neighborhood: N...                 No   \n",
      "2  100 East Chestnut (between Ernst Ct & Michigan...                Yes   \n",
      "3  601 W Diversey Pkwy (between Broadway St & Cam...                Yes   \n",
      "4  1110 Pleasant St (between Maple Ave & Marion S...                Yes   \n",
      "\n",
      "  PriceRange  WiFi                        webSite     phoneNumber  \\\n",
      "0         $$  Free   http://www.oldchicagoinn.com  (773) 245-0423   \n",
      "1          $    No   http://tokyohotels.webs.com/  (312) 787-4900   \n",
      "2         $$  Free  http://www.tremontchicago.com  (312) 751-1900   \n",
      "3        $$$  Free                           None  (773) 348-2810   \n",
      "4         $$  Free  http://www.carletonhotel.com/  (708) 848-5000   \n",
      "\n",
      "   filReviewCount  \n",
      "0               5  \n",
      "1               5  \n",
      "2               5  \n",
      "3               5  \n",
      "4               5  \n"
     ]
    }
   ],
   "source": [
    "hotel_df = pd.read_sql_query(\"Select * from hotel\",sql_connection)\n",
    "print(hotel_df.head())"
   ]
  },
  {
   "cell_type": "code",
   "execution_count": 11,
   "metadata": {},
   "outputs": [
    {
     "data": {
      "text/plain": [
       "0"
      ]
     },
     "execution_count": 11,
     "metadata": {},
     "output_type": "execute_result"
    }
   ],
   "source": [
    "#Data Analysis\n",
    "review_df.duplicated([\"reviewID\",\"reviewerID\",\"hotelID\",\"rating\",\"date\"]).sum()"
   ]
  },
  {
   "cell_type": "code",
   "execution_count": 14,
   "metadata": {},
   "outputs": [],
   "source": [
    "#Merging the two tables\n",
    "temp = pd.merge(review_df,hotel_df, on=['hotelID'], how='left')\n",
    "hotel_review = temp[['reviewerID', 'hotelID', 'rating_x', 'categories']]\n",
    "hotel_review = hotel_review.rename(columns={'rating_x':'rating'})"
   ]
  },
  {
   "cell_type": "code",
   "execution_count": 15,
   "metadata": {},
   "outputs": [
    {
     "data": {
      "text/html": [
       "<div>\n",
       "<style scoped>\n",
       "    .dataframe tbody tr th:only-of-type {\n",
       "        vertical-align: middle;\n",
       "    }\n",
       "\n",
       "    .dataframe tbody tr th {\n",
       "        vertical-align: top;\n",
       "    }\n",
       "\n",
       "    .dataframe thead th {\n",
       "        text-align: right;\n",
       "    }\n",
       "</style>\n",
       "<table border=\"1\" class=\"dataframe\">\n",
       "  <thead>\n",
       "    <tr style=\"text-align: right;\">\n",
       "      <th></th>\n",
       "      <th>reviewerID</th>\n",
       "      <th>hotelID</th>\n",
       "      <th>rating</th>\n",
       "      <th>categories</th>\n",
       "    </tr>\n",
       "  </thead>\n",
       "  <tbody>\n",
       "    <tr>\n",
       "      <th>0</th>\n",
       "      <td>IFTr6_6NI4CgCVavIL9k5g</td>\n",
       "      <td>tQfLGoolUMu2J0igcWcoZg</td>\n",
       "      <td>5</td>\n",
       "      <td>Event Planning &amp; Services, Hotels, Hotels &amp; Tr...</td>\n",
       "    </tr>\n",
       "    <tr>\n",
       "      <th>1</th>\n",
       "      <td>c_-hF15XgNhlyy_TqzmdaA</td>\n",
       "      <td>tQfLGoolUMu2J0igcWcoZg</td>\n",
       "      <td>3</td>\n",
       "      <td>Event Planning &amp; Services, Hotels, Hotels &amp; Tr...</td>\n",
       "    </tr>\n",
       "    <tr>\n",
       "      <th>2</th>\n",
       "      <td>CiwZ6S5ZizAFL5gypf8tLA</td>\n",
       "      <td>tQfLGoolUMu2J0igcWcoZg</td>\n",
       "      <td>5</td>\n",
       "      <td>Event Planning &amp; Services, Hotels, Hotels &amp; Tr...</td>\n",
       "    </tr>\n",
       "    <tr>\n",
       "      <th>3</th>\n",
       "      <td>nf3q2h-kSQoZK2jBY92FOg</td>\n",
       "      <td>tQfLGoolUMu2J0igcWcoZg</td>\n",
       "      <td>1</td>\n",
       "      <td>Event Planning &amp; Services, Hotels, Hotels &amp; Tr...</td>\n",
       "    </tr>\n",
       "    <tr>\n",
       "      <th>4</th>\n",
       "      <td>Sb3DJGdZ4Rq__CqxPbae-g</td>\n",
       "      <td>tQfLGoolUMu2J0igcWcoZg</td>\n",
       "      <td>3</td>\n",
       "      <td>Event Planning &amp; Services, Hotels, Hotels &amp; Tr...</td>\n",
       "    </tr>\n",
       "    <tr>\n",
       "      <th>...</th>\n",
       "      <td>...</td>\n",
       "      <td>...</td>\n",
       "      <td>...</td>\n",
       "      <td>...</td>\n",
       "    </tr>\n",
       "    <tr>\n",
       "      <th>688324</th>\n",
       "      <td>e7B7IsZlRT8LbFj8FcY78w</td>\n",
       "      <td>9xny0IlJqTInobC6W-UxbA</td>\n",
       "      <td>5</td>\n",
       "      <td>Event Planning &amp; Services, Hotels, Hotels &amp; Tr...</td>\n",
       "    </tr>\n",
       "    <tr>\n",
       "      <th>688325</th>\n",
       "      <td>e7B7IsZlRT8LbFj8FcY78w</td>\n",
       "      <td>PmmTXis1gCL34mg2bZ9gtw</td>\n",
       "      <td>2</td>\n",
       "      <td>Event Planning &amp; Services, Hotels, Hotels &amp; Tr...</td>\n",
       "    </tr>\n",
       "    <tr>\n",
       "      <th>688326</th>\n",
       "      <td>e7B7IsZlRT8LbFj8FcY78w</td>\n",
       "      <td>Mr6zu_hWk2CodBdqqMWQjg</td>\n",
       "      <td>5</td>\n",
       "      <td>Nightlife, Bars, Dance Clubs, METADATA</td>\n",
       "    </tr>\n",
       "    <tr>\n",
       "      <th>688327</th>\n",
       "      <td>e7B7IsZlRT8LbFj8FcY78w</td>\n",
       "      <td>-zetzVfO4X0dpiiTmjdeKg</td>\n",
       "      <td>5</td>\n",
       "      <td>Restaurants, Sushi Bars, Japanese, METADATA</td>\n",
       "    </tr>\n",
       "    <tr>\n",
       "      <th>688328</th>\n",
       "      <td>e7B7IsZlRT8LbFj8FcY78w</td>\n",
       "      <td>kEfMOwJRw2CNgPTVh82JaA</td>\n",
       "      <td>5</td>\n",
       "      <td>Beauty and Spas, Hair Salons, METADATA</td>\n",
       "    </tr>\n",
       "  </tbody>\n",
       "</table>\n",
       "<p>688096 rows × 4 columns</p>\n",
       "</div>"
      ],
      "text/plain": [
       "                    reviewerID                 hotelID  rating  \\\n",
       "0       IFTr6_6NI4CgCVavIL9k5g  tQfLGoolUMu2J0igcWcoZg       5   \n",
       "1       c_-hF15XgNhlyy_TqzmdaA  tQfLGoolUMu2J0igcWcoZg       3   \n",
       "2       CiwZ6S5ZizAFL5gypf8tLA  tQfLGoolUMu2J0igcWcoZg       5   \n",
       "3       nf3q2h-kSQoZK2jBY92FOg  tQfLGoolUMu2J0igcWcoZg       1   \n",
       "4       Sb3DJGdZ4Rq__CqxPbae-g  tQfLGoolUMu2J0igcWcoZg       3   \n",
       "...                        ...                     ...     ...   \n",
       "688324  e7B7IsZlRT8LbFj8FcY78w  9xny0IlJqTInobC6W-UxbA       5   \n",
       "688325  e7B7IsZlRT8LbFj8FcY78w  PmmTXis1gCL34mg2bZ9gtw       2   \n",
       "688326  e7B7IsZlRT8LbFj8FcY78w  Mr6zu_hWk2CodBdqqMWQjg       5   \n",
       "688327  e7B7IsZlRT8LbFj8FcY78w  -zetzVfO4X0dpiiTmjdeKg       5   \n",
       "688328  e7B7IsZlRT8LbFj8FcY78w  kEfMOwJRw2CNgPTVh82JaA       5   \n",
       "\n",
       "                                               categories  \n",
       "0       Event Planning & Services, Hotels, Hotels & Tr...  \n",
       "1       Event Planning & Services, Hotels, Hotels & Tr...  \n",
       "2       Event Planning & Services, Hotels, Hotels & Tr...  \n",
       "3       Event Planning & Services, Hotels, Hotels & Tr...  \n",
       "4       Event Planning & Services, Hotels, Hotels & Tr...  \n",
       "...                                                   ...  \n",
       "688324  Event Planning & Services, Hotels, Hotels & Tr...  \n",
       "688325  Event Planning & Services, Hotels, Hotels & Tr...  \n",
       "688326             Nightlife, Bars, Dance Clubs, METADATA  \n",
       "688327        Restaurants, Sushi Bars, Japanese, METADATA  \n",
       "688328             Beauty and Spas, Hair Salons, METADATA  \n",
       "\n",
       "[688096 rows x 4 columns]"
      ]
     },
     "execution_count": 15,
     "metadata": {},
     "output_type": "execute_result"
    }
   ],
   "source": [
    "#Drop the na values\n",
    "hotel_review = hotel_review.dropna()\n",
    "hotel_review"
   ]
  },
  {
   "cell_type": "code",
   "execution_count": 16,
   "metadata": {},
   "outputs": [],
   "source": [
    "#Splitting the data\n",
    "index = int(len(hotel_review)*0.80)\n",
    "training_data = hotel_review[:index]\n",
    "testing_data = hotel_review[index:]"
   ]
  },
  {
   "cell_type": "code",
   "execution_count": 17,
   "metadata": {},
   "outputs": [
    {
     "data": {
      "text/plain": [
       "reviewerID\n",
       "P5bUL3Engv-2z6kKohB6qQ    5434\n",
       "XYSDrIef7g4Gmp3lNFVO6A    2602\n",
       "om5ZiponkpRqUNa3pVPiRg    2073\n",
       "EiwxlbR8fb68lMgEXhcWKA    2031\n",
       "6s-g2vFu12OemhiK3FJuOQ    2018\n",
       "Name: rating, dtype: int64"
      ]
     },
     "execution_count": 17,
     "metadata": {},
     "output_type": "execute_result"
    }
   ],
   "source": [
    "#Ratings per user\n",
    "s = review_df.groupby('reviewerID')['rating'].mean()\n",
    "review_df['rating'].fillna(review_df['reviewerID'].map(s), inplace=True)\n",
    "ratings_per_user = training_data.groupby(by = \"reviewerID\")[\"rating\"].count().sort_values(ascending = False)\n",
    "ratings_per_user.head()"
   ]
  },
  {
   "cell_type": "code",
   "execution_count": 18,
   "metadata": {},
   "outputs": [
    {
     "data": {
      "text/plain": [
       "hotelID\n",
       "2m_KBLL9Bk_dwZ5n5b11nw    464\n",
       "NkOir65b_YAAQVlJR_zmJA    365\n",
       "YfzsjiJl3m-Yza64aIL7SQ    261\n",
       "mLdvQGAFadIJkOlEoHsI7w    246\n",
       "31yYZQjEIyYE0N3p_vmoOA    242\n",
       "Name: rating, dtype: int64"
      ]
     },
     "execution_count": 18,
     "metadata": {},
     "output_type": "execute_result"
    }
   ],
   "source": [
    "#Ratings per hotel\n",
    "t = review_df.groupby('hotelID')['rating'].mean()\n",
    "review_df['rating'].fillna(review_df['hotelID'].map(t), inplace=True)\n",
    "ratings_per_hotel = training_data.groupby(by = \"hotelID\")[\"rating\"].count().sort_values(ascending = False)\n",
    "ratings_per_hotel.head()"
   ]
  },
  {
   "cell_type": "code",
   "execution_count": 19,
   "metadata": {},
   "outputs": [],
   "source": [
    "class Item:\n",
    "    def __init__(self,id,category,score=None):\n",
    "        self.id = id\n",
    "        self.category = category\n",
    "        self.score = score\n",
    "    def __repr__(self):\n",
    "        return self.id"
   ]
  },
  {
   "cell_type": "code",
   "execution_count": 20,
   "metadata": {},
   "outputs": [],
   "source": [
    "#Creating mapping\n",
    "mapping = {}\n",
    "for i in range(len(training_data)):\n",
    "    item = training_data.iloc[i,1]\n",
    "    cat = training_data.iloc[i,3]\n",
    "    cat_split = cat.split(',')\n",
    "    prob = 1. / len(cat_split)\n",
    "    cat_ratios = {j: prob for j in cat_split}\n",
    "    no_str = Item(item,cat_ratios)\n",
    "    mapping[item] = no_str"
   ]
  },
  {
   "cell_type": "code",
   "execution_count": 21,
   "metadata": {},
   "outputs": [
    {
     "name": "stderr",
     "output_type": "stream",
     "text": [
      "<ipython-input-21-be1ca1aedd73>:2: SettingWithCopyWarning: \n",
      "A value is trying to be set on a copy of a slice from a DataFrame.\n",
      "Try using .loc[row_indexer,col_indexer] = value instead\n",
      "\n",
      "See the caveats in the documentation: https://pandas.pydata.org/pandas-docs/stable/user_guide/indexing.html#returning-a-view-versus-a-copy\n",
      "  training_data['reviewerID'] = training_data['reviewerID'].astype('category')\n",
      "<ipython-input-21-be1ca1aedd73>:3: SettingWithCopyWarning: \n",
      "A value is trying to be set on a copy of a slice from a DataFrame.\n",
      "Try using .loc[row_indexer,col_indexer] = value instead\n",
      "\n",
      "See the caveats in the documentation: https://pandas.pydata.org/pandas-docs/stable/user_guide/indexing.html#returning-a-view-versus-a-copy\n",
      "  training_data['hotelID'] = training_data['hotelID'].astype('category')\n"
     ]
    }
   ],
   "source": [
    "#converting into categories\n",
    "training_data['reviewerID'] = training_data['reviewerID'].astype('category')\n",
    "training_data['hotelID'] = training_data['hotelID'].astype('category')"
   ]
  },
  {
   "cell_type": "code",
   "execution_count": 22,
   "metadata": {},
   "outputs": [],
   "source": [
    "#Converting the ID's for sparse matrix\n",
    "user_index = training_data['reviewerID'].cat.categories\n",
    "item_index = training_data['hotelID'].cat.categories"
   ]
  },
  {
   "cell_type": "code",
   "execution_count": 23,
   "metadata": {},
   "outputs": [
    {
     "data": {
      "text/plain": [
       "<5107x244976 sparse matrix of type '<class 'numpy.float32'>'\n",
       "\twith 549282 stored elements in Compressed Sparse Row format>"
      ]
     },
     "execution_count": 23,
     "metadata": {},
     "output_type": "execute_result"
    }
   ],
   "source": [
    "#Creating the sparse matrix\n",
    "rows = training_data['reviewerID'].cat.codes\n",
    "cols = training_data['hotelID'].cat.codes\n",
    "values = training_data['rating'].astype(np.float32)\n",
    "sparse_matrix = csr_matrix((values, (rows, cols)))\n",
    "sparse_matrix"
   ]
  },
  {
   "cell_type": "code",
   "execution_count": 24,
   "metadata": {},
   "outputs": [
    {
     "data": {
      "application/vnd.jupyter.widget-view+json": {
       "model_id": "72d70f34ee62442eb776cf7524794b43",
       "version_major": 2,
       "version_minor": 0
      },
      "text/plain": [
       "HBox(children=(FloatProgress(value=0.0, max=50.0), HTML(value='')))"
      ]
     },
     "metadata": {},
     "output_type": "display_data"
    },
    {
     "name": "stdout",
     "output_type": "stream",
     "text": [
      "\n"
     ]
    }
   ],
   "source": [
    "#BPR Model generation\n",
    "np.random.seed(123)\n",
    "bpr = BayesianPersonalizedRanking(iterations=50)\n",
    "bpr.fit(sparse_matrix.T.tocsr())"
   ]
  },
  {
   "cell_type": "code",
   "execution_count": 25,
   "metadata": {},
   "outputs": [
    {
     "name": "stdout",
     "output_type": "stream",
     "text": [
      "Enter user id for collaborative recommendations 0\n"
     ]
    },
    {
     "data": {
      "text/plain": [
       "[zf62D_W7iGzgdV6U_CeApQ,\n",
       " QyP2x7Jd7byqeqM3RtPEWQ,\n",
       " dgePOeVxgz4oUamFJL15-g,\n",
       " ElCbMJRjgu9LDj4MxOKXew,\n",
       " 3GBS2-N2c7NumwB-ZuxhTg]"
      ]
     },
     "execution_count": 25,
     "metadata": {},
     "output_type": "execute_result"
    }
   ],
   "source": [
    "#Collaborative recommendation \n",
    "user_id = int(input('Enter user id for collaborative recommendations '))\n",
    "visit_id = sparse_matrix[user_id].nonzero()[1]\n",
    "visit_hotels = [mapping[training_data['hotelID'][index]] for index in visit_id]\n",
    "visit_hotels"
   ]
  },
  {
   "cell_type": "code",
   "execution_count": 26,
   "metadata": {},
   "outputs": [
    {
     "name": "stdout",
     "output_type": "stream",
     "text": [
      "Enter top number of recommendations 10\n"
     ]
    },
    {
     "data": {
      "text/plain": [
       "[mnGRyIurwNLqPlQzJY1waQ,\n",
       " 5JywOYVclW1qdTdxjDSSOg,\n",
       " eUFIUizut46TWSaQstFPCA,\n",
       " SOwI03p00DU4WHRn5KWvvw,\n",
       " _IoOnWFUjAZDH_UCy8xmNA,\n",
       " VaBEvR1fyFY9zy9cQKmEcQ,\n",
       " wUopsQnUYkRX3J4EDCOqWg,\n",
       " 41zKVRChsGjrNQh4nqooFg,\n",
       " sDYjKyI_67eUhFAqVneYjA,\n",
       " nEVME0CyJZ2jbXTClx_aFw]"
      ]
     },
     "execution_count": 26,
     "metadata": {},
     "output_type": "execute_result"
    }
   ],
   "source": [
    "#Top recommended hotels\n",
    "top = int(input('Enter top number of recommendations '))\n",
    "recommended_id = bpr.recommend(user_id, sparse_matrix, N=top)\n",
    "collaborative_recommendations = [mapping[training_data['hotelID'][index]] for index, _ in recommended_id]\n",
    "collaborative_recommendations"
   ]
  },
  {
   "cell_type": "code",
   "execution_count": 27,
   "metadata": {},
   "outputs": [],
   "source": [
    "#Catergory distribution\n",
    "def distribution(hotels):\n",
    "    prob = {}\n",
    "    for i in hotels:\n",
    "        for cat, dist in i.category.items():\n",
    "            cat_prob = prob.get(cat, 0.)\n",
    "            prob[cat] = cat_prob + dist\n",
    "    total = sum(prob.values())\n",
    "    for i, cat_prob in prob.items():\n",
    "        norm = round(cat_prob / total, 3)\n",
    "        prob[i] = norm\n",
    "    return prob"
   ]
  },
  {
   "cell_type": "code",
   "execution_count": 28,
   "metadata": {},
   "outputs": [],
   "source": [
    "#Distribution of the visited and recommended hotels\n",
    "visited_hotels = distribution(visit_hotels)\n",
    "recommended_hotel = distribution(collaborative_recommendations)"
   ]
  },
  {
   "cell_type": "code",
   "execution_count": 29,
   "metadata": {},
   "outputs": [
    {
     "data": {
      "text/plain": [
       "{'Nightlife': 0.02,\n",
       " ' Bars': 0.037,\n",
       " ' Arts & Entertainment': 0.02,\n",
       " ' Jazz & Blues': 0.02,\n",
       " ' METADATA': 0.303,\n",
       " 'Local Flavor': 0.05,\n",
       " 'Food': 0.025,\n",
       " ' Beer': 0.025,\n",
       " ' Wine & Spirits': 0.025,\n",
       " 'Restaurants': 0.183,\n",
       " ' Seafood': 0.033,\n",
       " 'Active Life': 0.025,\n",
       " ' Fitness & Instruction': 0.025,\n",
       " ' Gyms': 0.025,\n",
       " ' American (Traditional)': 0.033,\n",
       " ' American (New)': 0.05,\n",
       " ' Italian': 0.033,\n",
       " ' Nightlife': 0.017,\n",
       " ' Lounges': 0.017,\n",
       " ' Sushi Bars': 0.033}"
      ]
     },
     "execution_count": 29,
     "metadata": {},
     "output_type": "execute_result"
    }
   ],
   "source": [
    "recommended_hotel"
   ]
  },
  {
   "cell_type": "code",
   "execution_count": 30,
   "metadata": {},
   "outputs": [
    {
     "data": {
      "text/plain": [
       "{'Restaurants': 0.233,\n",
       " ' Indian': 0.079,\n",
       " ' Pakistani': 0.05,\n",
       " ' METADATA': 0.262,\n",
       " ' Mexican': 0.067,\n",
       " ' Barbeque': 0.067,\n",
       " ' Southern': 0.05,\n",
       " ' Breakfast & Brunch': 0.05,\n",
       " 'Food': 0.029,\n",
       " ' Grocery': 0.029,\n",
       " ' Restaurants': 0.029,\n",
       " ' Buffets': 0.029,\n",
       " ' Desserts': 0.029}"
      ]
     },
     "execution_count": 30,
     "metadata": {},
     "output_type": "execute_result"
    }
   ],
   "source": [
    "visited_hotels"
   ]
  },
  {
   "cell_type": "code",
   "execution_count": 32,
   "metadata": {},
   "outputs": [],
   "source": [
    "#Calculation of the KL_Divergence\n",
    "def calc_KL(visited_hotels, recommended_hotels, alpha):\n",
    "    kl = 0.\n",
    "    for cat, prob in visited_hotels.items():\n",
    "        recommendation_score = recommended_hotels.get(cat, 0.)\n",
    "        recommendation_score = (1 - alpha) * recommendation_score + alpha * prob\n",
    "        kl = kl + prob * np.log2(prob / recommendation_score)\n",
    "    return kl"
   ]
  },
  {
   "cell_type": "code",
   "execution_count": 33,
   "metadata": {},
   "outputs": [
    {
     "data": {
      "text/plain": [
       "2.4542553475772766"
      ]
     },
     "execution_count": 33,
     "metadata": {},
     "output_type": "execute_result"
    }
   ],
   "source": [
    "#KL_Divergence values using the collaborative filtering\n",
    "calc_KL(visited_hotels, recommended_hotel, 0.03)"
   ]
  },
  {
   "cell_type": "code",
   "execution_count": 34,
   "metadata": {},
   "outputs": [],
   "source": [
    "#removing the the visited hotels form the recomemnded hotels\n",
    "list_of_hotels = sparse_matrix.shape[1]\n",
    "\n",
    "user_factor = bpr.user_factors[user_id]\n",
    "scores = bpr.item_factors.dot(user_factor)\n",
    "\n",
    "visited_id = set()\n",
    "visited_id = set(sparse_matrix[user_id].indices)\n",
    "\n",
    "hotel_id = set(np.arange(list_of_hotels))\n",
    "hotel_id = hotel_id - visited_id\n",
    "\n",
    "recommended_hotels = []\n",
    "for i in hotel_id:\n",
    "    hotel = mapping[item_index[i]]\n",
    "    hotel.score = scores[i]\n",
    "    recommended_hotels.append(hotel)"
   ]
  },
  {
   "cell_type": "code",
   "execution_count": 35,
   "metadata": {},
   "outputs": [],
   "source": [
    "#Calculation of the utitilty \n",
    "def utility_calculation(hotels_recommended, visited, lmbda, alpha):\n",
    "    recommendations = distribution(hotels_recommended)\n",
    "    kl_diverge = calc_KL(visited, recommendations,alpha)\n",
    "    \n",
    "    tot_score = 0.0\n",
    "    for hotel in hotels_recommended:\n",
    "        tot_score = tot_score + hotel.score\n",
    "    \n",
    "    utility = (1-lmbda) * tot_score - lmbda * kl_diverge\n",
    "    return utility"
   ]
  },
  {
   "cell_type": "code",
   "execution_count": 36,
   "metadata": {},
   "outputs": [],
   "source": [
    "#Caliberated recommendations\n",
    "n_top = 10\n",
    "def caliberated_recommendations(hotels, visited, n_top, lmbda, alpha):\n",
    "    cal_recommend = []\n",
    "    for i in range (n_top):\n",
    "        max_utility = -np.inf\n",
    "        for hotel in hotels:\n",
    "            if hotel in cal_recommend:\n",
    "                continue\n",
    "            utility = utility_calculation(cal_recommend + [hotel],visited,lmbda, alpha)\n",
    "            if utility  > max_utility:\n",
    "                max_utility = utility\n",
    "                liked_hotel = hotel\n",
    "        cal_recommend.append(liked_hotel)\n",
    "    return cal_recommend   "
   ]
  },
  {
   "cell_type": "code",
   "execution_count": 37,
   "metadata": {},
   "outputs": [
    {
     "data": {
      "text/plain": [
       "[jYl6b2TidOPPZbN6fJcheQ,\n",
       " WBWZ_65VNXKJFuH0RiIhZw,\n",
       " m149-afaa2ssPY6WBnd_wA,\n",
       " 057iUDZ5sXMVdXUtKmCCUA,\n",
       " 41b2SLmjLcxTGLVRxASiDA,\n",
       " eBxc95u_Gcs9bLST0UntOQ,\n",
       " Yq7j28Ws9TbM551SjkML8A,\n",
       " VOtKVEDHPozjZHMbZ2GsYw,\n",
       " 7-2fthHiX4XTlkPkdBrATw,\n",
       " 3GBS2-N2c7NumwB-ZuxhTg]"
      ]
     },
     "execution_count": 37,
     "metadata": {},
     "output_type": "execute_result"
    }
   ],
   "source": [
    "# Recommendations got using the caliberated recommendations\n",
    "cal_recommend_hotels = caliberated_recommendations(recommended_hotels, visited_hotels, n_top, lmbda = 0.99, alpha = 0.01)\n",
    "cal_recommend_hotels"
   ]
  },
  {
   "cell_type": "code",
   "execution_count": 38,
   "metadata": {},
   "outputs": [
    {
     "data": {
      "text/plain": [
       "0.06343693676317233"
      ]
     },
     "execution_count": 38,
     "metadata": {},
     "output_type": "execute_result"
    }
   ],
   "source": [
    "#KL_Divergence using caliberated recommendations\n",
    "x = distribution(cal_recommend_hotels)\n",
    "calc_KL(visited_hotels, x, 0.01)"
   ]
  },
  {
   "cell_type": "code",
   "execution_count": 48,
   "metadata": {},
   "outputs": [],
   "source": [
    "#Range for the lambda and alpha values\n",
    "lamb = np.round(np.arange(0.15,0.98,0.1), 2).tolist()\n",
    "alpha = np.round(np.arange(0.01, 0.3, 0.02), 2).tolist()"
   ]
  },
  {
   "cell_type": "code",
   "execution_count": 49,
   "metadata": {},
   "outputs": [
    {
     "data": {
      "text/plain": [
       "[0.15, 0.25, 0.35, 0.45, 0.55, 0.65, 0.75, 0.85, 0.95]"
      ]
     },
     "execution_count": 49,
     "metadata": {},
     "output_type": "execute_result"
    }
   ],
   "source": [
    "#Lambda list\n",
    "lamb"
   ]
  },
  {
   "cell_type": "code",
   "execution_count": 50,
   "metadata": {},
   "outputs": [
    {
     "data": {
      "text/plain": [
       "[0.01,\n",
       " 0.03,\n",
       " 0.05,\n",
       " 0.07,\n",
       " 0.09,\n",
       " 0.11,\n",
       " 0.13,\n",
       " 0.15,\n",
       " 0.17,\n",
       " 0.19,\n",
       " 0.21,\n",
       " 0.23,\n",
       " 0.25,\n",
       " 0.27,\n",
       " 0.29]"
      ]
     },
     "execution_count": 50,
     "metadata": {},
     "output_type": "execute_result"
    }
   ],
   "source": [
    "#Alpha list\n",
    "alpha"
   ]
  },
  {
   "cell_type": "code",
   "execution_count": null,
   "metadata": {},
   "outputs": [],
   "source": [
    "#Hyperparameter tuning\n",
    "calibrated_recommendation = []\n",
    "kl_divergence = []\n",
    "lam = []\n",
    "alp = []\n",
    "for i in lamb:\n",
    "    for j in alpha:\n",
    "        lam.append(i)\n",
    "        alp.append(j)\n",
    "        x = caliberated_recommendations(recommended_hotels, visited_hotels, n_top,lmbda = i, alpha = j)\n",
    "        calibrated_recommendation.append(x)\n",
    "        distributions = distribution(x)\n",
    "        kl = calc_KL(visited_hotels,distributions, alpha = j)\n",
    "        kl_divergence.append(kl)"
   ]
  },
  {
   "cell_type": "code",
   "execution_count": null,
   "metadata": {},
   "outputs": [],
   "source": [
    "#Dataframe of the combination of the lambda and alpha list for the kl_divergence\n",
    "df = pd.DataFrame(list(zip(lam,alp,kl_divergence,calibrated_recommendation)), columns=['lambda','alpha','kl_divergence','calibrated_recommendation'])"
   ]
  },
  {
   "cell_type": "code",
   "execution_count": null,
   "metadata": {},
   "outputs": [],
   "source": [
    "df"
   ]
  },
  {
   "cell_type": "code",
   "execution_count": null,
   "metadata": {},
   "outputs": [],
   "source": []
  }
 ],
 "metadata": {
  "kernelspec": {
   "display_name": "Python 3",
   "language": "python",
   "name": "python3"
  },
  "language_info": {
   "codemirror_mode": {
    "name": "ipython",
    "version": 3
   },
   "file_extension": ".py",
   "mimetype": "text/x-python",
   "name": "python",
   "nbconvert_exporter": "python",
   "pygments_lexer": "ipython3",
   "version": "3.7.4"
  }
 },
 "nbformat": 4,
 "nbformat_minor": 2
}
